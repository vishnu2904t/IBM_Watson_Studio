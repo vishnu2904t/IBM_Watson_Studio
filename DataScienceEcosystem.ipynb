{
    "cells": [
        {
            "metadata": {
                "collapsed": true
            },
            "cell_type": "markdown",
            "source": "# Data Science Tools and Ecosystem "
        },
        {
            "metadata": {},
            "cell_type": "markdown",
            "source": "In this notebook, Data Science Tools and Ecosystem are summarized.\n"
        },
        {
            "metadata": {},
            "cell_type": "markdown",
            "source": "__Objectives:__\n* List popular languages for Data Science\n* the commonly used libraries used by Data Scientists\n* Table with three development environment open source tools used in data science"
        },
        {
            "metadata": {},
            "cell_type": "markdown",
            "source": "Some of the popular languages that Data Scientists use are:\n\n1. Python\n2. R\n3. SQL",
            "attachments": {}
        },
        {
            "metadata": {},
            "cell_type": "markdown",
            "source": "Some of the commonly used libraries used by Data Scientists include:\n\n1. NumPy\n2. Pandas\n3. SciPy\n4. SciKit-Learn"
        },
        {
            "metadata": {},
            "cell_type": "markdown",
            "source": "|    Data Science Tools    |\n|:------------------------:|\n|    Jupyter Notebooks     |\n|         GitHub           |\n|       RStudio IDE        |"
        },
        {
            "metadata": {},
            "cell_type": "markdown",
            "source": "### Below are a few examples of evaluating arithmetic expressions in Python"
        },
        {
            "metadata": {},
            "cell_type": "code",
            "source": "#This a simple arithmetic expression to mutiply then add integers\n(3*4)+5",
            "execution_count": 9,
            "outputs": [
                {
                    "output_type": "execute_result",
                    "execution_count": 9,
                    "data": {
                        "text/plain": "17"
                    },
                    "metadata": {}
                }
            ]
        },
        {
            "metadata": {},
            "cell_type": "code",
            "source": "mins=200\n#This will convert 200 minutes to hours by diving by 60\nhr=mins/60\nprint(hr)",
            "execution_count": 11,
            "outputs": [
                {
                    "output_type": "stream",
                    "text": "3.3333333333333335\n",
                    "name": "stdout"
                }
            ]
        },
        {
            "metadata": {},
            "cell_type": "markdown",
            "source": "## Author\n\nVishnu Varma .Tirumalaraju"
        }
    ],
    "metadata": {
        "kernelspec": {
            "name": "python3",
            "display_name": "Python 3.10",
            "language": "python"
        },
        "language_info": {
            "name": "python",
            "version": "3.10.6",
            "mimetype": "text/x-python",
            "codemirror_mode": {
                "name": "ipython",
                "version": 3
            },
            "pygments_lexer": "ipython3",
            "nbconvert_exporter": "python",
            "file_extension": ".py"
        }
    },
    "nbformat": 4,
    "nbformat_minor": 1
}